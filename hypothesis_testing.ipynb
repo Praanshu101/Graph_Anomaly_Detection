{
 "cells": [
  {
   "cell_type": "code",
   "execution_count": 13,
   "metadata": {},
   "outputs": [],
   "source": [
    "import networkx as nx\n",
    "import matplotlib.pyplot as plt\n",
    "import numpy as np\n",
    "import pickle as pkl\n",
    "import pandas as pd"
   ]
  },
  {
   "cell_type": "code",
   "execution_count": 5,
   "metadata": {},
   "outputs": [],
   "source": [
    "# loading the graph from the pkl file\n",
    "G = pkl.load(open(\"network_graph.pkl\", \"rb\"))\n",
    "G = nx.Graph(G)"
   ]
  },
  {
   "cell_type": "code",
   "execution_count": 65,
   "metadata": {},
   "outputs": [],
   "source": [
    "# load egonet features from pickle\n",
    "egonet_features = pkl.load(open(\"egonet_features.pkl\", \"rb\"))\n",
    "\n",
    "# load score_edpl from pickle\n",
    "scores_edpl = pkl.load(open(\"score_edpl.pkl\", \"rb\"))\n",
    "\n",
    "# load score_ewpl from pickle\n",
    "scores_ewpl = pkl.load(open(\"score_ewpl.pkl\", \"rb\"))\n",
    "\n",
    "# load score_elwpl from pickle\n",
    "scores_elwpl = pkl.load(open(\"score_elwpl.pkl\", \"rb\"))\n",
    "\n",
    "# load combined_scores from pickle\n",
    "combined_scores = pkl.load(open(\"combined_scores.pkl\", \"rb\"))\n",
    "\n",
    "# load graph_deviance from pickle\n",
    "graph_deviance = pkl.load(open(\"score_graph_deviance.pkl\", \"rb\"))\n",
    "\n",
    "# load label_mapping\n",
    "label_mapping = pkl.load(open(\"label_mapping.pkl\", \"rb\"))"
   ]
  },
  {
   "cell_type": "code",
   "execution_count": 66,
   "metadata": {},
   "outputs": [],
   "source": [
    "temp = {}\n",
    "temp[\"IP\"] = list(combined_scores.keys())\n",
    "temp[\"Outlier_score\"] = list(combined_scores[key] for key in combined_scores.keys())\n",
    "temp[\"Label\"] = [label_mapping.get(ip, \"Unknown\") for ip in temp[\"IP\"]]\n",
    "\n",
    "combined_scores = pd.DataFrame(temp)"
   ]
  },
  {
   "cell_type": "code",
   "execution_count": 67,
   "metadata": {},
   "outputs": [],
   "source": [
    "combined_scores.sort_values(by=\"Outlier_score\", ascending=False, inplace=True)"
   ]
  },
  {
   "cell_type": "code",
   "execution_count": 68,
   "metadata": {},
   "outputs": [
    {
     "data": {
      "text/html": [
       "<div>\n",
       "<style scoped>\n",
       "    .dataframe tbody tr th:only-of-type {\n",
       "        vertical-align: middle;\n",
       "    }\n",
       "\n",
       "    .dataframe tbody tr th {\n",
       "        vertical-align: top;\n",
       "    }\n",
       "\n",
       "    .dataframe thead th {\n",
       "        text-align: right;\n",
       "    }\n",
       "</style>\n",
       "<table border=\"1\" class=\"dataframe\">\n",
       "  <thead>\n",
       "    <tr style=\"text-align: right;\">\n",
       "      <th></th>\n",
       "      <th>IP</th>\n",
       "      <th>Outlier_score</th>\n",
       "      <th>Label</th>\n",
       "    </tr>\n",
       "  </thead>\n",
       "  <tbody>\n",
       "    <tr>\n",
       "      <th>1148</th>\n",
       "      <td>185.92.73.85</td>\n",
       "      <td>2.658524</td>\n",
       "      <td>Benign</td>\n",
       "    </tr>\n",
       "    <tr>\n",
       "      <th>2787</th>\n",
       "      <td>23.36.32.43</td>\n",
       "      <td>2.459180</td>\n",
       "      <td>Benign</td>\n",
       "    </tr>\n",
       "    <tr>\n",
       "      <th>9194</th>\n",
       "      <td>210.206.216.138</td>\n",
       "      <td>2.340506</td>\n",
       "      <td>Benign</td>\n",
       "    </tr>\n",
       "    <tr>\n",
       "      <th>22622</th>\n",
       "      <td>58.63.230.158</td>\n",
       "      <td>2.340506</td>\n",
       "      <td>Benign</td>\n",
       "    </tr>\n",
       "    <tr>\n",
       "      <th>22463</th>\n",
       "      <td>121.8.141.142</td>\n",
       "      <td>2.340506</td>\n",
       "      <td>Benign</td>\n",
       "    </tr>\n",
       "    <tr>\n",
       "      <th>...</th>\n",
       "      <td>...</td>\n",
       "      <td>...</td>\n",
       "      <td>...</td>\n",
       "    </tr>\n",
       "    <tr>\n",
       "      <th>3176</th>\n",
       "      <td>195.2.253.111</td>\n",
       "      <td>0.008583</td>\n",
       "      <td>Benign</td>\n",
       "    </tr>\n",
       "    <tr>\n",
       "      <th>3101</th>\n",
       "      <td>83.212.126.27</td>\n",
       "      <td>0.008583</td>\n",
       "      <td>Benign</td>\n",
       "    </tr>\n",
       "    <tr>\n",
       "      <th>2104</th>\n",
       "      <td>138.68.147.73</td>\n",
       "      <td>0.008583</td>\n",
       "      <td>Benign</td>\n",
       "    </tr>\n",
       "    <tr>\n",
       "      <th>4690</th>\n",
       "      <td>190.221.56.226</td>\n",
       "      <td>0.008583</td>\n",
       "      <td>Benign</td>\n",
       "    </tr>\n",
       "    <tr>\n",
       "      <th>2786</th>\n",
       "      <td>82.197.253.1</td>\n",
       "      <td>0.008583</td>\n",
       "      <td>Benign</td>\n",
       "    </tr>\n",
       "  </tbody>\n",
       "</table>\n",
       "<p>28050 rows × 3 columns</p>\n",
       "</div>"
      ],
      "text/plain": [
       "                    IP  Outlier_score   Label\n",
       "1148      185.92.73.85       2.658524  Benign\n",
       "2787       23.36.32.43       2.459180  Benign\n",
       "9194   210.206.216.138       2.340506  Benign\n",
       "22622    58.63.230.158       2.340506  Benign\n",
       "22463    121.8.141.142       2.340506  Benign\n",
       "...                ...            ...     ...\n",
       "3176     195.2.253.111       0.008583  Benign\n",
       "3101     83.212.126.27       0.008583  Benign\n",
       "2104     138.68.147.73       0.008583  Benign\n",
       "4690    190.221.56.226       0.008583  Benign\n",
       "2786      82.197.253.1       0.008583  Benign\n",
       "\n",
       "[28050 rows x 3 columns]"
      ]
     },
     "execution_count": 68,
     "metadata": {},
     "output_type": "execute_result"
    }
   ],
   "source": [
    "combined_scores"
   ]
  },
  {
   "cell_type": "code",
   "execution_count": 69,
   "metadata": {},
   "outputs": [
    {
     "name": "stdout",
     "output_type": "stream",
     "text": [
      "Mann-Whitney U stat: 672.000\n",
      "p-value: 1.0590513859504347e-08\n"
     ]
    }
   ],
   "source": [
    "from scipy.stats import mannwhitneyu\n",
    "\n",
    "# Split into benign and attack\n",
    "benign_scores = combined_scores[combined_scores[\"Label\"] == \"Benign\"][\"Outlier_score\"]\n",
    "attack_scores = combined_scores[combined_scores[\"Label\"] != \"Benign\"][\"Outlier_score\"]\n",
    "\n",
    "# Perform test\n",
    "stat, p_value = mannwhitneyu(benign_scores, attack_scores, alternative='two-sided')\n",
    "\n",
    "print(f\"Mann-Whitney U stat: {stat:.3f}\")\n",
    "print(f\"p-value: {p_value}\")\n"
   ]
  },
  {
   "cell_type": "markdown",
   "metadata": {},
   "source": [
    "#### p-value = $1.059*10^{-8} << 0.05$\n",
    "This indicates that the two distributions are significantly different, and we can reject the null hypothesis that they are from the same distribution."
   ]
  },
  {
   "cell_type": "code",
   "execution_count": 70,
   "metadata": {},
   "outputs": [
    {
     "name": "stdout",
     "output_type": "stream",
     "text": [
      "AUC: 0.9978\n"
     ]
    }
   ],
   "source": [
    "from sklearn.metrics import roc_auc_score, roc_curve\n",
    "\n",
    "# Convert labels to binary\n",
    "y_true = combined_scores[\"Label\"].apply(lambda x: 1 if x != \"Benign\" else 0)\n",
    "y_scores = combined_scores[\"Outlier_score\"]\n",
    "\n",
    "auc = roc_auc_score(y_true, y_scores)\n",
    "print(f\"AUC: {auc:.4f}\")\n"
   ]
  },
  {
   "cell_type": "markdown",
   "metadata": {},
   "source": [
    "\n",
    "\n",
    "#### AUC = 0.9978\n",
    "\n",
    "- This model has an **AUC of 0.9978**, which is extremely close to perfect.\n",
    "- This implies that **99.78% of the time**, an attack node has a higher outlier score than a benign node.\n",
    "\n",
    "---\n",
    "\n",
    "#### Interpretation\n",
    "\n",
    "- Your anomaly scoring system is doing an excellent job at **ranking** nodes by likelihood of being an attack.\n",
    "- Very few benign nodes are scoring higher than attack nodes — which is exactly what you want.\n",
    "\n",
    "---\n",
    "\n",
    "#### TL;DR\n",
    "\n",
    "An AUC of 0.9978 = your outlier score is highly effective at detecting attacks by ranking them above benign traffic.\n"
   ]
  },
  {
   "cell_type": "code",
   "execution_count": 71,
   "metadata": {},
   "outputs": [
    {
     "data": {
      "image/png": "[encoded data removed]",
      "text/plain": [
       "<Figure size 1000x600 with 1 Axes>"
      ]
     },
     "metadata": {},
     "output_type": "display_data"
    }
   ],
   "source": [
    "import matplotlib.pyplot as plt\n",
    "import seaborn as sns\n",
    "\n",
    "# Set style\n",
    "sns.set(style='whitegrid', font_scale=1.2)\n",
    "\n",
    "# Figure size\n",
    "plt.figure(figsize=(10, 6))\n",
    "\n",
    "# Plot histogram\n",
    "plt.hist(\n",
    "    [combined_scores[combined_scores['Label'] == 'Benign']['Outlier_score'], \n",
    "     combined_scores[combined_scores['Label'] != 'Benign']['Outlier_score']],\n",
    "    bins=50,\n",
    "    label=['Benign', 'Attack'],\n",
    "    color=['#4CAF50', '#F44336'],  # Green for benign, Red for attack\n",
    "    alpha=0.7,\n",
    "    density=True\n",
    ")\n",
    "\n",
    "# Customize axes\n",
    "plt.xlabel('Outlier Score', fontsize=14)\n",
    "plt.ylabel('Density', fontsize=14)\n",
    "plt.title('Distribution of Outlier Scores by Label', fontsize=16)\n",
    "plt.legend(title='Label', fontsize=12)\n",
    "plt.tight_layout()\n",
    "plt.grid(True, linestyle='--', alpha=0.4)\n",
    "\n",
    "# Show plot\n",
    "plt.show()\n"
   ]
  },
  {
   "cell_type": "markdown",
   "metadata": {},
   "source": [
    "#### Observations\n",
    "- Attack nodes are heavily concentrated in the higher outlier score range (~2.0), suggesting that your anomaly detection system assigns high scores to actual attacks — a good sign.\n",
    "\n",
    "- Benign nodes mostly cluster around lower outlier scores (0.0–1.2), with a long tail but very few crossing into the high outlier score territory.\n",
    "\n",
    "- There’s a clear separation between most benign and attack nodes, which supports the strong AUC value you previously observed (0.9978)."
   ]
  },
  {
   "cell_type": "code",
   "execution_count": 72,
   "metadata": {},
   "outputs": [
    {
     "name": "stdout",
     "output_type": "stream",
     "text": [
      "T-statistic: -11.918265262634677\n",
      "P-value: 1.1401615585267359e-32\n",
      "Cohen's d (Effect Size): -3.5941969979869937\n",
      "The difference is statistically significant and the effect size is large.\n"
     ]
    }
   ],
   "source": [
    "import pandas as pd\n",
    "import numpy as np\n",
    "from scipy import stats\n",
    "\n",
    "# Assuming your DataFrame is named df\n",
    "# Separate the data into two groups\n",
    "benign_scores = combined_scores[combined_scores['Label'] == 'Benign']['Outlier_score']\n",
    "ddos_scores = combined_scores[combined_scores['Label'] == 'DDoS attacks-LOIC-HTTP']['Outlier_score']\n",
    "\n",
    "# Perform the t-test\n",
    "t_stat, p_value = stats.ttest_ind(benign_scores, ddos_scores)\n",
    "\n",
    "# Print the result of the t-test\n",
    "print(f\"T-statistic: {t_stat}\")\n",
    "print(f\"P-value: {p_value}\")\n",
    "\n",
    "# Calculate Cohen's d for effect size\n",
    "mean_benign = np.mean(benign_scores)\n",
    "mean_ddos = np.mean(ddos_scores)\n",
    "std_benign = np.std(benign_scores, ddof=1)\n",
    "std_ddos = np.std(ddos_scores, ddof=1)\n",
    "\n",
    "# Pooled standard deviation\n",
    "pooled_std = np.sqrt(((len(benign_scores) - 1) * std_benign**2 + (len(ddos_scores) - 1) * std_ddos**2) / (len(benign_scores) + len(ddos_scores) - 2))\n",
    "\n",
    "# Cohen's d\n",
    "cohen_d = (mean_benign - mean_ddos) / pooled_std\n",
    "\n",
    "# Print the effect size\n",
    "print(f\"Cohen's d (Effect Size): {cohen_d}\")\n",
    "\n",
    "# Interpretation\n",
    "if p_value < 0.05:\n",
    "    if abs(cohen_d) > 0.8:\n",
    "        print(\"The difference is statistically significant and the effect size is large.\")\n",
    "    elif abs(cohen_d) > 0.5:\n",
    "        print(\"The difference is statistically significant and the effect size is medium.\")\n",
    "    else:\n",
    "        print(\"The difference is statistically significant but the effect size is small.\")\n",
    "else:\n",
    "    print(\"No significant difference detected between the groups.\")\n"
   ]
  },
  {
   "cell_type": "code",
   "execution_count": null,
   "metadata": {},
   "outputs": [],
   "source": []
  }
 ],
 "metadata": {
  "kernelspec": {
   "display_name": "Python 3",
   "language": "python",
   "name": "python3"
  },
  "language_info": {
   "codemirror_mode": {
    "name": "ipython",
    "version": 3
   },
   "file_extension": ".py",
   "mimetype": "text/x-python",
   "name": "python",
   "nbconvert_exporter": "python",
   "pygments_lexer": "ipython3",
   "version": "3.13.2"
  }
 },
 "nbformat": 4,
 "nbformat_minor": 2
}
