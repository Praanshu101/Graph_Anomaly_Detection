{
 "cells": [
  {
   "cell_type": "markdown",
   "id": "cadc247d",
   "metadata": {},
   "source": [
    "## Graph Construction from Data:"
   ]
  },
  {
   "cell_type": "code",
   "execution_count": 2,
   "id": "15f05b47",
   "metadata": {},
   "outputs": [
    {
     "ename": "ParserError",
     "evalue": "Error tokenizing data. C error: Calling read(nbytes) on source failed. Try engine='python'.",
     "output_type": "error",
     "traceback": [
      "\u001b[1;31m---------------------------------------------------------------------------\u001b[0m",
      "\u001b[1;31mParserError\u001b[0m                               Traceback (most recent call last)",
      "\u001b[1;32m~\\AppData\\Local\\Temp\\ipykernel_21180\\332707605.py\u001b[0m in \u001b[0;36m<cell line: 0>\u001b[1;34m()\u001b[0m\n\u001b[0;32m     13\u001b[0m \u001b[1;33m\u001b[0m\u001b[0m\n\u001b[0;32m     14\u001b[0m \u001b[1;31m# Stream CSV in chunks\u001b[0m\u001b[1;33m\u001b[0m\u001b[1;33m\u001b[0m\u001b[0m\n\u001b[1;32m---> 15\u001b[1;33m for chunk in pd.read_csv(file_path, usecols=[\"Src IP\", \"Dst IP\", \"TotLen Fwd Pkts\", \"TotLen Bwd Pkts\", \"Label\"], \n\u001b[0m\u001b[0;32m     16\u001b[0m                          chunksize=chunk_size, low_memory=False):\n\u001b[0;32m     17\u001b[0m \u001b[1;33m\u001b[0m\u001b[0m\n",
      "\u001b[1;32mc:\\Users\\aksha\\AppData\\Local\\Programs\\Python\\Python311\\Lib\\site-packages\\pandas\\io\\parsers\\readers.py\u001b[0m in \u001b[0;36m__next__\u001b[1;34m(self)\u001b[0m\n\u001b[0;32m   1841\u001b[0m     \u001b[1;32mdef\u001b[0m \u001b[0m__next__\u001b[0m\u001b[1;33m(\u001b[0m\u001b[0mself\u001b[0m\u001b[1;33m)\u001b[0m \u001b[1;33m->\u001b[0m \u001b[0mDataFrame\u001b[0m\u001b[1;33m:\u001b[0m\u001b[1;33m\u001b[0m\u001b[1;33m\u001b[0m\u001b[0m\n\u001b[0;32m   1842\u001b[0m         \u001b[1;32mtry\u001b[0m\u001b[1;33m:\u001b[0m\u001b[1;33m\u001b[0m\u001b[1;33m\u001b[0m\u001b[0m\n\u001b[1;32m-> 1843\u001b[1;33m             \u001b[1;32mreturn\u001b[0m \u001b[0mself\u001b[0m\u001b[1;33m.\u001b[0m\u001b[0mget_chunk\u001b[0m\u001b[1;33m(\u001b[0m\u001b[1;33m)\u001b[0m\u001b[1;33m\u001b[0m\u001b[1;33m\u001b[0m\u001b[0m\n\u001b[0m\u001b[0;32m   1844\u001b[0m         \u001b[1;32mexcept\u001b[0m \u001b[0mStopIteration\u001b[0m\u001b[1;33m:\u001b[0m\u001b[1;33m\u001b[0m\u001b[1;33m\u001b[0m\u001b[0m\n\u001b[0;32m   1845\u001b[0m             \u001b[0mself\u001b[0m\u001b[1;33m.\u001b[0m\u001b[0mclose\u001b[0m\u001b[1;33m(\u001b[0m\u001b[1;33m)\u001b[0m\u001b[1;33m\u001b[0m\u001b[1;33m\u001b[0m\u001b[0m\n",
      "\u001b[1;32mc:\\Users\\aksha\\AppData\\Local\\Programs\\Python\\Python311\\Lib\\site-packages\\pandas\\io\\parsers\\readers.py\u001b[0m in \u001b[0;36mget_chunk\u001b[1;34m(self, size)\u001b[0m\n\u001b[0;32m   1983\u001b[0m                 \u001b[1;32mraise\u001b[0m \u001b[0mStopIteration\u001b[0m\u001b[1;33m\u001b[0m\u001b[1;33m\u001b[0m\u001b[0m\n\u001b[0;32m   1984\u001b[0m             \u001b[0msize\u001b[0m \u001b[1;33m=\u001b[0m \u001b[0mmin\u001b[0m\u001b[1;33m(\u001b[0m\u001b[0msize\u001b[0m\u001b[1;33m,\u001b[0m \u001b[0mself\u001b[0m\u001b[1;33m.\u001b[0m\u001b[0mnrows\u001b[0m \u001b[1;33m-\u001b[0m \u001b[0mself\u001b[0m\u001b[1;33m.\u001b[0m\u001b[0m_currow\u001b[0m\u001b[1;33m)\u001b[0m\u001b[1;33m\u001b[0m\u001b[1;33m\u001b[0m\u001b[0m\n\u001b[1;32m-> 1985\u001b[1;33m         \u001b[1;32mreturn\u001b[0m \u001b[0mself\u001b[0m\u001b[1;33m.\u001b[0m\u001b[0mread\u001b[0m\u001b[1;33m(\u001b[0m\u001b[0mnrows\u001b[0m\u001b[1;33m=\u001b[0m\u001b[0msize\u001b[0m\u001b[1;33m)\u001b[0m\u001b[1;33m\u001b[0m\u001b[1;33m\u001b[0m\u001b[0m\n\u001b[0m\u001b[0;32m   1986\u001b[0m \u001b[1;33m\u001b[0m\u001b[0m\n\u001b[0;32m   1987\u001b[0m     \u001b[1;32mdef\u001b[0m \u001b[0m__enter__\u001b[0m\u001b[1;33m(\u001b[0m\u001b[0mself\u001b[0m\u001b[1;33m)\u001b[0m \u001b[1;33m->\u001b[0m \u001b[0mSelf\u001b[0m\u001b[1;33m:\u001b[0m\u001b[1;33m\u001b[0m\u001b[1;33m\u001b[0m\u001b[0m\n",
      "\u001b[1;32mc:\\Users\\aksha\\AppData\\Local\\Programs\\Python\\Python311\\Lib\\site-packages\\pandas\\io\\parsers\\readers.py\u001b[0m in \u001b[0;36mread\u001b[1;34m(self, nrows)\u001b[0m\n\u001b[0;32m   1921\u001b[0m                     \u001b[0mcolumns\u001b[0m\u001b[1;33m,\u001b[0m\u001b[1;33m\u001b[0m\u001b[1;33m\u001b[0m\u001b[0m\n\u001b[0;32m   1922\u001b[0m                     \u001b[0mcol_dict\u001b[0m\u001b[1;33m,\u001b[0m\u001b[1;33m\u001b[0m\u001b[1;33m\u001b[0m\u001b[0m\n\u001b[1;32m-> 1923\u001b[1;33m                 \u001b[1;33m)\u001b[0m \u001b[1;33m=\u001b[0m \u001b[0mself\u001b[0m\u001b[1;33m.\u001b[0m\u001b[0m_engine\u001b[0m\u001b[1;33m.\u001b[0m\u001b[0mread\u001b[0m\u001b[1;33m(\u001b[0m  \u001b[1;31m# type: ignore[attr-defined]\u001b[0m\u001b[1;33m\u001b[0m\u001b[1;33m\u001b[0m\u001b[0m\n\u001b[0m\u001b[0;32m   1924\u001b[0m                     \u001b[0mnrows\u001b[0m\u001b[1;33m\u001b[0m\u001b[1;33m\u001b[0m\u001b[0m\n\u001b[0;32m   1925\u001b[0m                 )\n",
      "\u001b[1;32mc:\\Users\\aksha\\AppData\\Local\\Programs\\Python\\Python311\\Lib\\site-packages\\pandas\\io\\parsers\\c_parser_wrapper.py\u001b[0m in \u001b[0;36mread\u001b[1;34m(self, nrows)\u001b[0m\n\u001b[0;32m    237\u001b[0m \u001b[1;33m\u001b[0m\u001b[0m\n\u001b[0;32m    238\u001b[0m             \u001b[1;32melse\u001b[0m\u001b[1;33m:\u001b[0m\u001b[1;33m\u001b[0m\u001b[1;33m\u001b[0m\u001b[0m\n\u001b[1;32m--> 239\u001b[1;33m                 \u001b[0mdata\u001b[0m \u001b[1;33m=\u001b[0m \u001b[0mself\u001b[0m\u001b[1;33m.\u001b[0m\u001b[0m_reader\u001b[0m\u001b[1;33m.\u001b[0m\u001b[0mread\u001b[0m\u001b[1;33m(\u001b[0m\u001b[0mnrows\u001b[0m\u001b[1;33m)\u001b[0m\u001b[1;33m\u001b[0m\u001b[1;33m\u001b[0m\u001b[0m\n\u001b[0m\u001b[0;32m    240\u001b[0m         \u001b[1;32mexcept\u001b[0m \u001b[0mStopIteration\u001b[0m\u001b[1;33m:\u001b[0m\u001b[1;33m\u001b[0m\u001b[1;33m\u001b[0m\u001b[0m\n\u001b[0;32m    241\u001b[0m             \u001b[1;32mif\u001b[0m \u001b[0mself\u001b[0m\u001b[1;33m.\u001b[0m\u001b[0m_first_chunk\u001b[0m\u001b[1;33m:\u001b[0m\u001b[1;33m\u001b[0m\u001b[1;33m\u001b[0m\u001b[0m\n",
      "\u001b[1;32mparsers.pyx\u001b[0m in \u001b[0;36mpandas._libs.parsers.TextReader.read\u001b[1;34m()\u001b[0m\n",
      "\u001b[1;32mparsers.pyx\u001b[0m in \u001b[0;36mpandas._libs.parsers.TextReader._read_rows\u001b[1;34m()\u001b[0m\n",
      "\u001b[1;32mparsers.pyx\u001b[0m in \u001b[0;36mpandas._libs.parsers.TextReader._tokenize_rows\u001b[1;34m()\u001b[0m\n",
      "\u001b[1;32mparsers.pyx\u001b[0m in \u001b[0;36mpandas._libs.parsers.TextReader._check_tokenize_status\u001b[1;34m()\u001b[0m\n",
      "\u001b[1;32mparsers.pyx\u001b[0m in \u001b[0;36mpandas._libs.parsers.raise_parser_error\u001b[1;34m()\u001b[0m\n",
      "\u001b[1;31mParserError\u001b[0m: Error tokenizing data. C error: Calling read(nbytes) on source failed. Try engine='python'."
     ]
    }
   ],
   "source": [
    "import pandas as pd\n",
    "import networkx as nx\n",
    "import pickle\n",
    "\n",
    "# File path\n",
    "file_path = r'Data/02-20-2018.csv'\n",
    "\n",
    "# Chunk size (adjust based on available RAM)\n",
    "chunk_size = 1000000\n",
    "\n",
    "# Create an empty directed graph\n",
    "G = nx.DiGraph()\n",
    "\n",
    "# Stream CSV in chunks\n",
    "for chunk in pd.read_csv(file_path, usecols=[\"Src IP\", \"Dst IP\", \"TotLen Fwd Pkts\", \"TotLen Bwd Pkts\", \"Label\"], \n",
    "                         chunksize=chunk_size, low_memory=False):\n",
    "\n",
    "    # Drop rows with missing IPs\n",
    "    chunk.dropna(subset=[\"Src IP\", \"Dst IP\"], inplace=True)\n",
    "\n",
    "    # Iterate over rows\n",
    "    for _, row in chunk.iterrows():\n",
    "        try:\n",
    "            src = row[\"Src IP\"]\n",
    "            dst = row[\"Dst IP\"]\n",
    "            fwd_bytes = float(row[\"TotLen Fwd Pkts\"])\n",
    "            bwd_bytes = float(row[\"TotLen Bwd Pkts\"])\n",
    "            \n",
    "            # Forward direction: src -> dst\n",
    "            if G.has_edge(src, dst):\n",
    "                G[src][dst][\"weight\"] += fwd_bytes\n",
    "            else:\n",
    "                G.add_edge(src, dst, weight=fwd_bytes)\n",
    "            \n",
    "            # Backward direction: dst -> src\n",
    "            if G.has_edge(dst, src):\n",
    "                G[dst][src][\"weight\"] += bwd_bytes\n",
    "            else:\n",
    "                G.add_edge(dst, src, weight=bwd_bytes)\n",
    "\n",
    "        except (KeyError, ValueError):\n",
    "            continue  # Skip problematic rows\n",
    "\n",
    "# Graph stats\n",
    "print(f\"Number of nodes: {G.number_of_nodes()}\")\n",
    "print(f\"Number of edges: {G.number_of_edges()}\")\n",
    "\n",
    "# Save the graph\n",
    "with open(\"network_graph.pkl\", \"wb\") as f:\n",
    "    pickle.dump(G, f)\n",
    "\n",
    "# Optional: Save a lightweight graph summary\n",
    "summary = {\n",
    "    \"nodes\": G.number_of_nodes(),\n",
    "    \"edges\": G.number_of_edges(),\n",
    "}\n",
    "with open(\"graph_summary.txt\", \"w\") as f:\n",
    "    f.write(str(summary))\n"
   ]
  },
  {
   "cell_type": "code",
   "execution_count": 32,
   "id": "0af21594",
   "metadata": {},
   "outputs": [
    {
     "name": "stdout",
     "output_type": "stream",
     "text": [
      "Saved labels for first 5 nodes: {'94.231.103.172': 'Benign', '172.31.69.25': 'DDoS attacks-LOIC-HTTP', '8.6.0.1': 'Benign', '8.0.6.4': 'Benign', '91.185.191.213': 'Benign'}\n"
     ]
    }
   ],
   "source": [
    "import pandas as pd\n",
    "import pickle\n",
    "\n",
    "# File path\n",
    "file_path = r'Data/02-20-2018.csv'\n",
    "\n",
    "# Chunk size (adjust based on available RAM)\n",
    "chunk_size = 1000000\n",
    "\n",
    "# Dictionary to store labels for each unique IP\n",
    "label_mapping = {}\n",
    "\n",
    "# Stream CSV in chunks\n",
    "for chunk in pd.read_csv(file_path, usecols=[\"Src IP\", \"Dst IP\", \"Label\"], chunksize=chunk_size, low_memory=False):\n",
    "\n",
    "    # Drop rows with missing IPs\n",
    "    chunk.dropna(subset=[\"Src IP\", \"Dst IP\"], inplace=True)\n",
    "\n",
    "    # Iterate over rows and add labels to dictionary\n",
    "    for _, row in chunk.iterrows():\n",
    "        src_ip = row[\"Src IP\"]\n",
    "        dst_ip = row[\"Dst IP\"]\n",
    "        label = row[\"Label\"]\n",
    "\n",
    "        # Assign labels to each IP\n",
    "        label_mapping[src_ip] = label\n",
    "        label_mapping[dst_ip] = label\n",
    "\n",
    "# Save the label mapping as a pickle file\n",
    "with open(\"label_mapping.pkl\", \"wb\") as f:\n",
    "    pickle.dump(label_mapping, f)\n",
    "\n",
    "# Optional: To check if the labels are saved correctly\n",
    "print(f\"Saved labels for first 5 nodes: {dict(list(label_mapping.items())[:5])}\")\n"
   ]
  },
  {
   "cell_type": "markdown",
   "id": "b72e760a",
   "metadata": {},
   "source": [
    "### Computing egonet features"
   ]
  },
  {
   "cell_type": "code",
   "execution_count": 3,
   "id": "eba09d38",
   "metadata": {},
   "outputs": [],
   "source": [
    "import pandas as pd\n",
    "import networkx as nx\n",
    "import pickle"
   ]
  },
  {
   "cell_type": "code",
   "execution_count": 4,
   "id": "0bde3653",
   "metadata": {},
   "outputs": [],
   "source": [
    "with open(\"network_graph.pkl\", \"rb\") as f:\n",
    "    G = pickle.load(f)"
   ]
  },
  {
   "cell_type": "code",
   "execution_count": 5,
   "id": "a1b25f75",
   "metadata": {},
   "outputs": [
    {
     "ename": "KeyboardInterrupt",
     "evalue": "",
     "output_type": "error",
     "traceback": [
      "\u001b[1;31m---------------------------------------------------------------------------\u001b[0m",
      "\u001b[1;31mKeyboardInterrupt\u001b[0m                         Traceback (most recent call last)",
      "\u001b[1;32m~\\AppData\\Local\\Temp\\ipykernel_21180\\4211200977.py\u001b[0m in \u001b[0;36m<cell line: 0>\u001b[1;34m()\u001b[0m\n\u001b[0;32m     13\u001b[0m \u001b[1;33m\u001b[0m\u001b[0m\n\u001b[0;32m     14\u001b[0m     \u001b[1;31m# Weighted adjacency matrix and its top eigenvalue\u001b[0m\u001b[1;33m\u001b[0m\u001b[1;33m\u001b[0m\u001b[0m\n\u001b[1;32m---> 15\u001b[1;33m     \u001b[0mW_matrix\u001b[0m \u001b[1;33m=\u001b[0m \u001b[0mnx\u001b[0m\u001b[1;33m.\u001b[0m\u001b[0mto_numpy_array\u001b[0m\u001b[1;33m(\u001b[0m\u001b[0msubgraph\u001b[0m\u001b[1;33m,\u001b[0m \u001b[0mweight\u001b[0m\u001b[1;33m=\u001b[0m\u001b[1;34m\"weight\"\u001b[0m\u001b[1;33m)\u001b[0m\u001b[1;33m\u001b[0m\u001b[1;33m\u001b[0m\u001b[0m\n\u001b[0m\u001b[0;32m     16\u001b[0m     \u001b[1;32mif\u001b[0m \u001b[0mW_matrix\u001b[0m\u001b[1;33m.\u001b[0m\u001b[0mshape\u001b[0m\u001b[1;33m[\u001b[0m\u001b[1;36m0\u001b[0m\u001b[1;33m]\u001b[0m \u001b[1;33m>\u001b[0m \u001b[1;36m1\u001b[0m\u001b[1;33m:\u001b[0m\u001b[1;33m\u001b[0m\u001b[1;33m\u001b[0m\u001b[0m\n\u001b[0;32m     17\u001b[0m         \u001b[0mlambda_w\u001b[0m \u001b[1;33m=\u001b[0m \u001b[0mmax\u001b[0m\u001b[1;33m(\u001b[0m\u001b[0mnp\u001b[0m\u001b[1;33m.\u001b[0m\u001b[0mlinalg\u001b[0m\u001b[1;33m.\u001b[0m\u001b[0meigvals\u001b[0m\u001b[1;33m(\u001b[0m\u001b[0mW_matrix\u001b[0m\u001b[1;33m)\u001b[0m\u001b[1;33m)\u001b[0m\u001b[1;33m.\u001b[0m\u001b[0mreal\u001b[0m\u001b[1;33m\u001b[0m\u001b[1;33m\u001b[0m\u001b[0m\n",
      "\u001b[1;32mc:\\Users\\aksha\\AppData\\Local\\Programs\\Python\\Python311\\Lib\\site-packages\\networkx\\utils\\decorators.py\u001b[0m in \u001b[0;36margmap_to_numpy_array_1\u001b[1;34m(G, nodelist, dtype, order, multigraph_weight, weight, nonedge, backend, **backend_kwargs)\u001b[0m\n\u001b[0;32m      1\u001b[0m \u001b[1;32mimport\u001b[0m \u001b[0mbz2\u001b[0m\u001b[1;33m\u001b[0m\u001b[1;33m\u001b[0m\u001b[0m\n\u001b[0;32m      2\u001b[0m \u001b[1;32mimport\u001b[0m \u001b[0mcollections\u001b[0m\u001b[1;33m\u001b[0m\u001b[1;33m\u001b[0m\u001b[0m\n\u001b[1;32m----> 3\u001b[1;33m \u001b[1;32mimport\u001b[0m \u001b[0mgzip\u001b[0m\u001b[1;33m\u001b[0m\u001b[1;33m\u001b[0m\u001b[0m\n\u001b[0m\u001b[0;32m      4\u001b[0m \u001b[1;32mimport\u001b[0m \u001b[0minspect\u001b[0m\u001b[1;33m\u001b[0m\u001b[1;33m\u001b[0m\u001b[0m\n\u001b[0;32m      5\u001b[0m \u001b[1;32mimport\u001b[0m \u001b[0mitertools\u001b[0m\u001b[1;33m\u001b[0m\u001b[1;33m\u001b[0m\u001b[0m\n",
      "\u001b[1;32mc:\\Users\\aksha\\AppData\\Local\\Programs\\Python\\Python311\\Lib\\site-packages\\networkx\\utils\\backends.py\u001b[0m in \u001b[0;36m__call__\u001b[1;34m(self, backend, *args, **kwargs)\u001b[0m\n\u001b[0;32m    965\u001b[0m             \u001b[1;32mif\u001b[0m \u001b[0mbackend\u001b[0m \u001b[1;32mis\u001b[0m \u001b[1;32mnot\u001b[0m \u001b[1;32mNone\u001b[0m \u001b[1;32mand\u001b[0m \u001b[0mbackend\u001b[0m \u001b[1;33m!=\u001b[0m \u001b[1;34m\"networkx\"\u001b[0m\u001b[1;33m:\u001b[0m\u001b[1;33m\u001b[0m\u001b[1;33m\u001b[0m\u001b[0m\n\u001b[0;32m    966\u001b[0m                 \u001b[1;32mraise\u001b[0m \u001b[0mImportError\u001b[0m\u001b[1;33m(\u001b[0m\u001b[1;34mf\"'{backend}' backend is not installed\"\u001b[0m\u001b[1;33m)\u001b[0m\u001b[1;33m\u001b[0m\u001b[1;33m\u001b[0m\u001b[0m\n\u001b[1;32m--> 967\u001b[1;33m             \u001b[1;32mreturn\u001b[0m \u001b[0mself\u001b[0m\u001b[1;33m.\u001b[0m\u001b[0morig_func\u001b[0m\u001b[1;33m(\u001b[0m\u001b[1;33m*\u001b[0m\u001b[0margs\u001b[0m\u001b[1;33m,\u001b[0m \u001b[1;33m**\u001b[0m\u001b[0mkwargs\u001b[0m\u001b[1;33m)\u001b[0m\u001b[1;33m\u001b[0m\u001b[1;33m\u001b[0m\u001b[0m\n\u001b[0m\u001b[0;32m    968\u001b[0m \u001b[1;33m\u001b[0m\u001b[0m\n\u001b[0;32m    969\u001b[0m         \u001b[1;31m# Use `backend_name` in this function instead of `backend`.\u001b[0m\u001b[1;33m\u001b[0m\u001b[1;33m\u001b[0m\u001b[0m\n",
      "\u001b[1;32mc:\\Users\\aksha\\AppData\\Local\\Programs\\Python\\Python311\\Lib\\site-packages\\networkx\\convert_matrix.py\u001b[0m in \u001b[0;36mto_numpy_array\u001b[1;34m(G, nodelist, dtype, order, multigraph_weight, weight, nonedge)\u001b[0m\n\u001b[0;32m   1055\u001b[0m         \u001b[1;32mraise\u001b[0m \u001b[0mnx\u001b[0m\u001b[1;33m.\u001b[0m\u001b[0mNetworkXError\u001b[0m\u001b[1;33m(\u001b[0m\u001b[1;34m\"nodelist contains duplicates.\"\u001b[0m\u001b[1;33m)\u001b[0m\u001b[1;33m\u001b[0m\u001b[1;33m\u001b[0m\u001b[0m\n\u001b[0;32m   1056\u001b[0m \u001b[1;33m\u001b[0m\u001b[0m\n\u001b[1;32m-> 1057\u001b[1;33m     \u001b[0mA\u001b[0m \u001b[1;33m=\u001b[0m \u001b[0mnp\u001b[0m\u001b[1;33m.\u001b[0m\u001b[0mfull\u001b[0m\u001b[1;33m(\u001b[0m\u001b[1;33m(\u001b[0m\u001b[0mnlen\u001b[0m\u001b[1;33m,\u001b[0m \u001b[0mnlen\u001b[0m\u001b[1;33m)\u001b[0m\u001b[1;33m,\u001b[0m \u001b[0mfill_value\u001b[0m\u001b[1;33m=\u001b[0m\u001b[0mnonedge\u001b[0m\u001b[1;33m,\u001b[0m \u001b[0mdtype\u001b[0m\u001b[1;33m=\u001b[0m\u001b[0mdtype\u001b[0m\u001b[1;33m,\u001b[0m \u001b[0morder\u001b[0m\u001b[1;33m=\u001b[0m\u001b[0morder\u001b[0m\u001b[1;33m)\u001b[0m\u001b[1;33m\u001b[0m\u001b[1;33m\u001b[0m\u001b[0m\n\u001b[0m\u001b[0;32m   1058\u001b[0m \u001b[1;33m\u001b[0m\u001b[0m\n\u001b[0;32m   1059\u001b[0m     \u001b[1;31m# Corner cases: empty nodelist or graph without any edges\u001b[0m\u001b[1;33m\u001b[0m\u001b[1;33m\u001b[0m\u001b[0m\n",
      "\u001b[1;32mc:\\Users\\aksha\\AppData\\Local\\Programs\\Python\\Python311\\Lib\\site-packages\\numpy\\core\\numeric.py\u001b[0m in \u001b[0;36mfull\u001b[1;34m(shape, fill_value, dtype, order, like)\u001b[0m\n\u001b[0;32m    328\u001b[0m         \u001b[0mdtype\u001b[0m \u001b[1;33m=\u001b[0m \u001b[0mfill_value\u001b[0m\u001b[1;33m.\u001b[0m\u001b[0mdtype\u001b[0m\u001b[1;33m\u001b[0m\u001b[1;33m\u001b[0m\u001b[0m\n\u001b[0;32m    329\u001b[0m     \u001b[0ma\u001b[0m \u001b[1;33m=\u001b[0m \u001b[0mempty\u001b[0m\u001b[1;33m(\u001b[0m\u001b[0mshape\u001b[0m\u001b[1;33m,\u001b[0m \u001b[0mdtype\u001b[0m\u001b[1;33m,\u001b[0m \u001b[0morder\u001b[0m\u001b[1;33m)\u001b[0m\u001b[1;33m\u001b[0m\u001b[1;33m\u001b[0m\u001b[0m\n\u001b[1;32m--> 330\u001b[1;33m     \u001b[0mmultiarray\u001b[0m\u001b[1;33m.\u001b[0m\u001b[0mcopyto\u001b[0m\u001b[1;33m(\u001b[0m\u001b[0ma\u001b[0m\u001b[1;33m,\u001b[0m \u001b[0mfill_value\u001b[0m\u001b[1;33m,\u001b[0m \u001b[0mcasting\u001b[0m\u001b[1;33m=\u001b[0m\u001b[1;34m'unsafe'\u001b[0m\u001b[1;33m)\u001b[0m\u001b[1;33m\u001b[0m\u001b[1;33m\u001b[0m\u001b[0m\n\u001b[0m\u001b[0;32m    331\u001b[0m     \u001b[1;32mreturn\u001b[0m \u001b[0ma\u001b[0m\u001b[1;33m\u001b[0m\u001b[1;33m\u001b[0m\u001b[0m\n\u001b[0;32m    332\u001b[0m \u001b[1;33m\u001b[0m\u001b[0m\n",
      "\u001b[1;31mKeyboardInterrupt\u001b[0m: "
     ]
    }
   ],
   "source": [
    "import numpy as np\n",
    "\n",
    "egonet_features = {}\n",
    "\n",
    "for node in G.nodes():\n",
    "    neighbors = list(G.successors(node)) + list(G.predecessors(node))\n",
    "    egonet_nodes = set(neighbors + [node])\n",
    "    subgraph = G.subgraph(egonet_nodes).copy()\n",
    "\n",
    "    N_i = len(subgraph.nodes)\n",
    "    E_i = len(subgraph.edges)\n",
    "    W_i = sum([d[\"weight\"] for u, v, d in subgraph.edges(data=True)])\n",
    "    \n",
    "    # Weighted adjacency matrix and its top eigenvalue\n",
    "    W_matrix = nx.to_numpy_array(subgraph, weight=\"weight\")\n",
    "    if W_matrix.shape[0] > 1:\n",
    "        lambda_w = max(np.linalg.eigvals(W_matrix)).real\n",
    "    else:\n",
    "        lambda_w = 0\n",
    "\n",
    "    # Store features\n",
    "    egonet_features[node] = {\n",
    "        \"N_i\": N_i,\n",
    "        \"E_i\": E_i,\n",
    "        \"W_i\": W_i,\n",
    "        \"lambda_w\": lambda_w,\n",
    "    }\n",
    "\n",
    "# Save the dictionary\n",
    "with open(\"egonet_features.pkl\", \"wb\") as f:\n",
    "    pickle.dump(egonet_features, f)\n",
    "\n"
   ]
  },
  {
   "cell_type": "code",
   "execution_count": 6,
   "id": "25ce91c4",
   "metadata": {},
   "outputs": [],
   "source": [
    "\n",
    "# Save the dictionary\n",
    "with open(\"egonet_features.pkl\", \"wb\") as f:\n",
    "    pickle.dump(egonet_features, f)\n"
   ]
  },
  {
   "cell_type": "markdown",
   "id": "2870b7e2",
   "metadata": {},
   "source": [
    "### Fitting power laws"
   ]
  },
  {
   "cell_type": "code",
   "execution_count": null,
   "id": "d21baaf3",
   "metadata": {},
   "outputs": [],
   "source": [
    "from scipy.optimize import curve_fit\n",
    "\n",
    "def power_law(x, C, alpha):\n",
    "    return C * np.power(x, alpha)\n",
    "\n",
    "def fit_powerlaw(x_vals, y_vals):\n",
    "    x = np.array(x_vals)\n",
    "    y = np.array(y_vals)\n",
    "    valid = (x > 2) & (y > 0)\n",
    "    x = x[valid]\n",
    "    y = y[valid]\n",
    "    popt, _ = curve_fit(power_law, x, y)\n",
    "    return popt  # returns C, alpha\n",
    "\n",
    "def outlier_score(y, y_hat):\n",
    "    return max(y, y_hat) / min(y, y_hat) * np.log(abs(y - y_hat) + 1)\n"
   ]
  },
  {
   "cell_type": "markdown",
   "id": "b2e24945",
   "metadata": {},
   "source": [
    "### Counting outlier scores"
   ]
  },
  {
   "cell_type": "code",
   "execution_count": null,
   "id": "73389cf5",
   "metadata": {},
   "outputs": [],
   "source": [
    "\n",
    "Ni = [v[\"N_i\"] for v in egonet_features.values()]\n",
    "Ei = [v[\"E_i\"] for v in egonet_features.values()]\n",
    "C_edpl, alpha_edpl = fit_powerlaw(Ni, Ei)\n",
    "\n",
    "scores_edpl = {}\n",
    "for node, feats in egonet_features.items():\n",
    "    x = feats[\"N_i\"]\n",
    "    y = feats[\"E_i\"]\n",
    "    y_hat = power_law(x, C_edpl, alpha_edpl)\n",
    "    score = outlier_score(y, y_hat)\n",
    "    scores_edpl[node] = score\n",
    "\n",
    "\n",
    "# Save the dictionary\n",
    "with open(\"score_edpl.pkl\", \"wb\") as f:\n",
    "    pickle.dump(scores_edpl, f)\n",
    "\n"
   ]
  },
  {
   "cell_type": "code",
   "execution_count": null,
   "id": "f7104c39",
   "metadata": {},
   "outputs": [
    {
     "name": "stderr",
     "output_type": "stream",
     "text": [
      "/tmp/ipykernel_22314/878669918.py:16: RuntimeWarning: divide by zero encountered in scalar divide\n",
      "  return max(y, y_hat) / min(y, y_hat) * np.log(abs(y - y_hat) + 1)\n"
     ]
    }
   ],
   "source": [
    "# Extract values\n",
    "E_vals = [v[\"E_i\"] for v in egonet_features.values()]\n",
    "W_vals = [v[\"W_i\"] for v in egonet_features.values()]\n",
    "\n",
    "# Fit power law\n",
    "C_ewpl, alpha_ewpl = fit_powerlaw(E_vals, W_vals)\n",
    "\n",
    "# Compute outlier scores\n",
    "scores_ewpl = {}\n",
    "for node, feats in egonet_features.items():\n",
    "    x = feats[\"E_i\"]\n",
    "    y = feats[\"W_i\"]\n",
    "    y_hat = power_law(x, C_ewpl, alpha_ewpl)\n",
    "    score = outlier_score(y, y_hat)\n",
    "    scores_ewpl[node] = score\n",
    "\n",
    "with open(\"score_ewpl.pkl\", \"wb\") as f:\n",
    "    pickle.dump(scores_ewpl, f)\n"
   ]
  },
  {
   "cell_type": "code",
   "execution_count": null,
   "id": "7d1d8101",
   "metadata": {},
   "outputs": [
    {
     "name": "stderr",
     "output_type": "stream",
     "text": [
      "/tmp/ipykernel_22314/878669918.py:16: RuntimeWarning: invalid value encountered in scalar divide\n",
      "  return max(y, y_hat) / min(y, y_hat) * np.log(abs(y - y_hat) + 1)\n",
      "/tmp/ipykernel_22314/878669918.py:16: RuntimeWarning: divide by zero encountered in scalar divide\n",
      "  return max(y, y_hat) / min(y, y_hat) * np.log(abs(y - y_hat) + 1)\n"
     ]
    }
   ],
   "source": [
    "W_vals = [v[\"W_i\"] for v in egonet_features.values()]\n",
    "L_vals = [v[\"lambda_w\"] for v in egonet_features.values()]\n",
    "\n",
    "# Fit power law\n",
    "C_elwpl, alpha_elwpl = fit_powerlaw(W_vals, L_vals)\n",
    "\n",
    "# Compute outlier scores\n",
    "scores_elwpl = {}\n",
    "for node, feats in egonet_features.items():\n",
    "    x = feats[\"W_i\"]\n",
    "    y = feats[\"lambda_w\"]\n",
    "    y_hat = power_law(x, C_elwpl, alpha_elwpl)\n",
    "    score = outlier_score(y, y_hat)\n",
    "    scores_elwpl[node] = score\n",
    "\n",
    "with open(\"score_elwpl.pkl\", \"wb\") as f:\n",
    "    pickle.dump(scores_elwpl, f)\n"
   ]
  },
  {
   "cell_type": "markdown",
   "id": "37933c89",
   "metadata": {},
   "source": [
    "### Combine with LOF"
   ]
  },
  {
   "cell_type": "code",
   "execution_count": 5,
   "id": "98239899",
   "metadata": {},
   "outputs": [
    {
     "ename": "NameError",
     "evalue": "name 'scores_edpl' is not defined",
     "output_type": "error",
     "traceback": [
      "\u001b[1;31m---------------------------------------------------------------------------\u001b[0m",
      "\u001b[1;31mNameError\u001b[0m                                 Traceback (most recent call last)",
      "\u001b[1;32m~\\AppData\\Local\\Temp\\ipykernel_8580\\616825339.py\u001b[0m in \u001b[0;36m<cell line: 0>\u001b[1;34m()\u001b[0m\n\u001b[0;32m     13\u001b[0m     \u001b[1;32mreturn\u001b[0m \u001b[0mMinMaxScaler\u001b[0m\u001b[1;33m(\u001b[0m\u001b[1;33m)\u001b[0m\u001b[1;33m.\u001b[0m\u001b[0mfit_transform\u001b[0m\u001b[1;33m(\u001b[0m\u001b[0mvals\u001b[0m\u001b[1;33m.\u001b[0m\u001b[0mreshape\u001b[0m\u001b[1;33m(\u001b[0m\u001b[1;33m-\u001b[0m\u001b[1;36m1\u001b[0m\u001b[1;33m,\u001b[0m \u001b[1;36m1\u001b[0m\u001b[1;33m)\u001b[0m\u001b[1;33m)\u001b[0m\u001b[1;33m.\u001b[0m\u001b[0mflatten\u001b[0m\u001b[1;33m(\u001b[0m\u001b[1;33m)\u001b[0m\u001b[1;33m\u001b[0m\u001b[1;33m\u001b[0m\u001b[0m\n\u001b[0;32m     14\u001b[0m \u001b[1;33m\u001b[0m\u001b[0m\n\u001b[1;32m---> 15\u001b[1;33m \u001b[0medpl_scores_norm\u001b[0m \u001b[1;33m=\u001b[0m \u001b[0msafe_normalize\u001b[0m\u001b[1;33m(\u001b[0m\u001b[0mscores_edpl\u001b[0m\u001b[1;33m)\u001b[0m\u001b[1;33m\u001b[0m\u001b[1;33m\u001b[0m\u001b[0m\n\u001b[0m\u001b[0;32m     16\u001b[0m \u001b[0mewpl_scores_norm\u001b[0m \u001b[1;33m=\u001b[0m \u001b[0msafe_normalize\u001b[0m\u001b[1;33m(\u001b[0m\u001b[0mscores_ewpl\u001b[0m\u001b[1;33m)\u001b[0m\u001b[1;33m\u001b[0m\u001b[1;33m\u001b[0m\u001b[0m\n\u001b[0;32m     17\u001b[0m \u001b[0melwpl_scores_norm\u001b[0m \u001b[1;33m=\u001b[0m \u001b[0msafe_normalize\u001b[0m\u001b[1;33m(\u001b[0m\u001b[0mscores_elwpl\u001b[0m\u001b[1;33m)\u001b[0m\u001b[1;33m\u001b[0m\u001b[1;33m\u001b[0m\u001b[0m\n",
      "\u001b[1;31mNameError\u001b[0m: name 'scores_edpl' is not defined"
     ]
    }
   ],
   "source": [
    "from sklearn.neighbors import LocalOutlierFactor\n",
    "from sklearn.preprocessing import MinMaxScaler\n",
    "\n",
    "# Prepare features for LOF\n",
    "X_lof = np.array([[v[\"N_i\"], v[\"E_i\"], v[\"W_i\"], v[\"lambda_w\"]] for v in egonet_features.values()])\n",
    "lof_model = LocalOutlierFactor(n_neighbors=20, metric=\"euclidean\")\n",
    "lof_scores = -lof_model.fit_predict(X_lof)  # higher means more outlier\n",
    "\n",
    "# Normalize\n",
    "def safe_normalize(scores_dict):\n",
    "    vals = np.array(list(scores_dict.values()))\n",
    "    vals = np.nan_to_num(vals, nan=0.0, posinf=0.0, neginf=0.0)\n",
    "    return MinMaxScaler().fit_transform(vals.reshape(-1, 1)).flatten()\n",
    "\n",
    "edpl_scores_norm = safe_normalize(scores_edpl)\n",
    "ewpl_scores_norm = safe_normalize(scores_ewpl)\n",
    "elwpl_scores_norm = safe_normalize(scores_elwpl)\n",
    "lof_scores_norm = safe_normalize(dict(zip(egonet_features.keys(), lof_scores)))\n",
    "\n",
    "\n",
    "# Combine\n",
    "combined_scores = {\n",
    "    node: edpl_scores_norm[i] + lof_scores_norm[i] + ewpl_scores_norm[i] + elwpl_scores_norm[i]\n",
    "    for i, node in enumerate(egonet_features.keys())\n",
    "}\n"
   ]
  },
  {
   "cell_type": "code",
   "execution_count": 13,
   "id": "67229340",
   "metadata": {},
   "outputs": [],
   "source": [
    "from collections import defaultdict, Counter\n",
    "\n",
    "ip_labels = defaultdict(list)\n",
    "\n",
    "for chunk in pd.read_csv(file_path, usecols=[\"Src IP\", \"Dst IP\", \"Label\"], chunksize=chunk_size, low_memory=False):\n",
    "    chunk.dropna(subset=[\"Src IP\", \"Dst IP\"], inplace=True)\n",
    "    for _, row in chunk.iterrows():\n",
    "        ip_labels[row[\"Src IP\"]].append(row[\"Label\"])\n",
    "        ip_labels[row[\"Dst IP\"]].append(row[\"Label\"])\n",
    "\n",
    "# Final label per IP: use most common label\n",
    "ip_majority_label = {ip: Counter(labels).most_common(1)[0][0] for ip, labels in ip_labels.items()}\n"
   ]
  },
  {
   "cell_type": "code",
   "execution_count": 45,
   "id": "54010444",
   "metadata": {},
   "outputs": [],
   "source": [
    "with open(\"ip_majority_label.pkl\", \"wb\") as f:\n",
    "    pickle.dump(ip_majority_label, f)"
   ]
  },
  {
   "cell_type": "code",
   "execution_count": 83,
   "id": "99ba5e57",
   "metadata": {},
   "outputs": [
    {
     "name": "stdout",
     "output_type": "stream",
     "text": [
      "1. Node: 185.92.73.85, Combined Outlier Score: 2.6585\n",
      "2. Node: 23.36.32.43, Combined Outlier Score: 2.4592\n",
      "3. Node: 121.8.141.138, Combined Outlier Score: 2.3405\n",
      "4. Node: 210.206.216.138, Combined Outlier Score: 2.3405\n",
      "5. Node: 121.8.141.142, Combined Outlier Score: 2.3405\n",
      "6. Node: 58.63.230.158, Combined Outlier Score: 2.3405\n",
      "7. Node: 18.219.32.43, Combined Outlier Score: 2.0740\n",
      "8. Node: 52.14.136.135, Combined Outlier Score: 2.0700\n",
      "9. Node: 18.219.9.1, Combined Outlier Score: 2.0695\n",
      "10. Node: 18.216.200.189, Combined Outlier Score: 2.0678\n"
     ]
    }
   ],
   "source": [
    "\n",
    "# Sort and view top 10\n",
    "sorted_outliers = sorted(combined_scores.items(), key=lambda x: x[1], reverse=True)\n",
    "top_outliers = sorted_outliers[:10]\n",
    "for i, (node, score) in enumerate(top_outliers):\n",
    "    print(f\"{i+1}. Node: {node}, Combined Outlier Score: {score:.4f}\")"
   ]
  },
  {
   "cell_type": "code",
   "execution_count": 84,
   "id": "cabcf0d7",
   "metadata": {},
   "outputs": [
    {
     "name": "stdout",
     "output_type": "stream",
     "text": [
      "True Positives: 9\n",
      "False Positives: 8\n"
     ]
    }
   ],
   "source": [
    "outlier_nodes = [node for node, _ in sorted_outliers[:17]]  \n",
    "\n",
    "\n",
    "true_positives = [ip for ip in outlier_nodes if ip_majority_label.get(ip, \"Benign\") != \"Benign\"]\n",
    "false_positives = [ip for ip in outlier_nodes if ip_majority_label.get(ip, \"Benign\") == \"Benign\"]\n",
    "\n",
    "print(f\"True Positives: {len(true_positives)}\")\n",
    "print(f\"False Positives: {len(false_positives)}\")\n"
   ]
  },
  {
   "cell_type": "code",
   "execution_count": 85,
   "id": "fc1eb75d",
   "metadata": {},
   "outputs": [
    {
     "name": "stdout",
     "output_type": "stream",
     "text": [
      "Precision: 0.5294\n",
      "Recall:    0.8182\n",
      "F1 Score:  0.6429\n"
     ]
    }
   ],
   "source": [
    "# Get all IPs labeled malicious\n",
    "malicious_ips = {ip for ip, label in ip_majority_label.items() if label != \"Benign\"}\n",
    "\n",
    "tp = len(set(outlier_nodes) & malicious_ips)\n",
    "fp = len(set(outlier_nodes) - malicious_ips)\n",
    "fn = len(malicious_ips - set(outlier_nodes))\n",
    "\n",
    "precision = tp / (tp + fp + 1e-6)\n",
    "recall = tp / (tp + fn + 1e-6)\n",
    "f1 = 2 * precision * recall / (precision + recall + 1e-6)\n",
    "\n",
    "print(f\"Precision: {precision:.4f}\")\n",
    "print(f\"Recall:    {recall:.4f}\")\n",
    "print(f\"F1 Score:  {f1:.4f}\")\n"
   ]
  },
  {
   "cell_type": "code",
   "execution_count": 86,
   "id": "ec1efed3",
   "metadata": {},
   "outputs": [
    {
     "name": "stdout",
     "output_type": "stream",
     "text": [
      "Outlier: 185.92.73.85 - Label: Benign\n",
      "Outlier: 23.36.32.43 - Label: Benign\n",
      "Outlier: 121.8.141.138 - Label: Benign\n",
      "Outlier: 210.206.216.138 - Label: Benign\n",
      "Outlier: 121.8.141.142 - Label: Benign\n",
      "Outlier: 58.63.230.158 - Label: Benign\n",
      "Outlier: 18.219.32.43 - Label: DDoS attacks-LOIC-HTTP\n",
      "Outlier: 52.14.136.135 - Label: DDoS attacks-LOIC-HTTP\n",
      "Outlier: 18.219.9.1 - Label: DDoS attacks-LOIC-HTTP\n",
      "Outlier: 18.216.200.189 - Label: DDoS attacks-LOIC-HTTP\n"
     ]
    }
   ],
   "source": [
    "for ip in top_outliers:\n",
    "    label = ip_majority_label.get(ip[0], \"UNKNOWN\")\n",
    "    print(f\"Outlier: {ip[0]} - Label: {label}\")\n"
   ]
  },
  {
   "cell_type": "markdown",
   "id": "6d5abebf",
   "metadata": {},
   "source": [
    "Graph Deviation\n"
   ]
  },
  {
   "cell_type": "code",
   "execution_count": 7,
   "id": "64a4ed4e",
   "metadata": {},
   "outputs": [],
   "source": [
    "import numpy as np\n",
    "import pickle\n",
    "\n",
    "# Extract feature vectors\n",
    "features = {\n",
    "    \"N_i\": np.array([v[\"N_i\"] for v in egonet_features.values()]),\n",
    "    \"E_i\": np.array([v[\"E_i\"] for v in egonet_features.values()]),\n",
    "    \"W_i\": np.array([v[\"W_i\"] for v in egonet_features.values()]),\n",
    "    \"lambda_w\": np.array([v[\"lambda_w\"] for v in egonet_features.values()])\n",
    "}\n",
    "\n",
    "# Compute mean and std\n",
    "means = {k: np.mean(v) for k, v in features.items()}\n",
    "stds = {k: np.std(v) + 1e-9 for k, v in features.items()}\n",
    "\n",
    "# Compute z-scores\n",
    "z_scores = {k: (v - means[k]) / stds[k] for k, v in features.items()}\n",
    "\n",
    "# Aggregate\n",
    "nodes = list(egonet_features.keys())\n",
    "score_graph_deviance = {\n",
    "    node: sum(abs(z_scores[k][i]) for k in z_scores)\n",
    "    for i, node in enumerate(nodes)\n",
    "}\n",
    "\n",
    "# Save\n",
    "with open(\"score_graph_deviance.pkl\", \"wb\") as f:\n",
    "    pickle.dump(score_graph_deviance, f)\n"
   ]
  },
  {
   "cell_type": "code",
   "execution_count": 1,
   "id": "5c0c9500",
   "metadata": {},
   "outputs": [
    {
     "name": "stdout",
     "output_type": "stream",
     "text": [
      "                    EDPL      EWPL     ELWPL  GraphDeviance\n",
      "172.31.69.25    0.636131  0.000638  0.101924       1.000000\n",
      "13.107.4.50     0.435761  0.002357  0.303627       0.527790\n",
      "23.36.32.43     0.457617  0.001562  1.000000       0.376157\n",
      "23.15.8.139     0.159679  0.004225  0.051090       0.306614\n",
      "23.15.8.129     0.129994  0.003612  0.053541       0.283226\n",
      "18.218.55.126   0.871684  0.016439  0.175733       0.273309\n",
      "18.219.5.43     0.871684  0.015652  0.177154       0.265213\n",
      "18.218.229.235  0.871684  0.015352  0.179340       0.263971\n",
      "18.216.24.42    0.871684  0.014202  0.180515       0.250490\n",
      "18.216.200.189  0.871684  0.014024  0.182051       0.249833\n",
      "18.219.9.1      0.871684  0.013558  0.184252       0.246011\n",
      "18.218.11.51    0.871684  0.013782  0.181375       0.245912\n",
      "23.219.88.11    0.531287  0.000599  0.042430       0.238232\n",
      "52.14.136.135   0.871684  0.012663  0.185695       0.235382\n",
      "18.219.32.43    0.871684  0.010075  0.192223       0.204569\n",
      "23.219.88.59    0.245100  0.003103  0.043054       0.181533\n",
      "172.31.66.63    1.000000  0.000012  0.039088       0.178895\n",
      "172.31.66.111   0.916533  0.000011  0.028516       0.167595\n",
      "172.31.65.6     0.711298  0.000019  0.026046       0.166367\n",
      "172.31.65.100   0.802710  0.000014  0.024482       0.164871\n",
      "172.31.64.99    0.573349  0.000025  0.040686       0.161077\n",
      "172.31.67.28    0.757044  0.000016  0.036249       0.160717\n",
      "172.31.66.42    0.613300  0.000020  0.031419       0.158954\n",
      "172.31.64.115   0.808045  0.000013  0.040219       0.157924\n",
      "172.31.66.82    0.863777  0.000009  0.046331       0.154776\n",
      "172.31.65.25    0.474385  0.000022  0.027645       0.153451\n",
      "172.31.64.76    0.715043  0.000015  0.037830       0.152953\n",
      "172.31.65.123   0.805917  0.000011  0.052745       0.151227\n",
      "172.31.66.15    0.401346  0.000023  0.029169       0.150304\n",
      "172.31.65.117   0.033653  0.000030  0.024632       0.149394\n"
     ]
    }
   ],
   "source": [
    "import pandas as pd\n",
    "import pickle\n",
    "from sklearn.preprocessing import MinMaxScaler\n",
    "\n",
    "# Load all scores\n",
    "def load_score(file):\n",
    "    with open(file, \"rb\") as f:\n",
    "        return pickle.load(f)\n",
    "\n",
    "scores = {\n",
    "    \"EDPL\": load_score(\"score_edpl.pkl\"),\n",
    "    \"EWPL\": load_score(\"score_ewpl.pkl\"),\n",
    "    \"ELWPL\": load_score(\"score_elwpl.pkl\"),\n",
    "    \"GraphDeviance\": load_score(\"score_graph_deviance.pkl\")\n",
    "}\n",
    "\n",
    "# Combine into DataFrame\n",
    "df_scores = pd.DataFrame(scores).fillna(0)\n",
    "\n",
    "# Replace inf/-inf with 0\n",
    "df_scores.replace([float('inf'), float('-inf')], 0, inplace=True)\n",
    "\n",
    "# Normalize for comparison\n",
    "scaler = MinMaxScaler()\n",
    "df_scores_scaled = pd.DataFrame(scaler.fit_transform(df_scores), columns=df_scores.columns, index=df_scores.index)\n",
    "\n",
    "# View top anomalies\n",
    "top_anomalies = df_scores_scaled.sort_values(by=\"GraphDeviance\", ascending=False).head(30)\n",
    "print(top_anomalies)\n",
    "\n"
   ]
  },
  {
   "cell_type": "code",
   "execution_count": 6,
   "id": "243e064e",
   "metadata": {},
   "outputs": [
    {
     "data": {
      "image/png": "[encoded data removed]",
      "text/plain": [
       "<Figure size 1800x500 with 1 Axes>"
      ]
     },
     "metadata": {},
     "output_type": "display_data"
    }
   ],
   "source": [
    "import matplotlib.pyplot as plt\n",
    "\n",
    "# Plot a smooth line instead of cluttered bars\n",
    "plt.figure(figsize=(18, 5))\n",
    "plt.plot(df_scores_scaled[\"GraphDeviance\"].values, color=\"royalblue\", linewidth=1)\n",
    "plt.title(\"Graph Deviance Scores (All Nodes)\", fontsize=16)\n",
    "plt.xlabel(\"Node Index\", fontsize=12)\n",
    "plt.ylabel(\"Normalized Score\", fontsize=12)\n",
    "plt.grid(True, linestyle=\"--\", alpha=0.5)\n",
    "\n",
    "# Optional: highlight a threshold (e.g., top 1% anomaly cutoff)\n",
    "threshold = df_scores_scaled[\"GraphDeviance\"].quantile(0.99)\n",
    "plt.axhline(y=threshold, color='red', linestyle='--', label=f'99th percentile threshold: {threshold:.2f}')\n",
    "plt.legend()\n",
    "\n",
    "plt.tight_layout()\n",
    "plt.show()\n"
   ]
  },
  {
   "cell_type": "code",
   "execution_count": 7,
   "id": "557fc7db",
   "metadata": {},
   "outputs": [
    {
     "name": "stdout",
     "output_type": "stream",
     "text": [
      "Top anomalous nodes/IPs:\n",
      "['172.31.69.25', '13.107.4.50', '23.36.32.43', '23.15.8.139', '23.15.8.129', '18.218.55.126', '18.219.5.43', '18.218.229.235', '18.216.24.42', '18.216.200.189', '18.219.9.1', '18.218.11.51', '23.219.88.11', '52.14.136.135', '18.219.32.43', '23.219.88.59', '172.31.66.63', '172.31.66.111', '172.31.65.6', '172.31.65.100', '172.31.64.99', '172.31.67.28', '172.31.66.42', '172.31.64.115', '172.31.66.82', '172.31.65.25', '172.31.64.76', '172.31.65.123', '172.31.66.15', '172.31.65.117']\n"
     ]
    }
   ],
   "source": [
    "top_ids = top_anomalies.index.tolist()\n",
    "print(\"Top anomalous nodes/IPs:\")\n",
    "print(top_ids)\n",
    "top_anomalies.to_csv(\"top_graph_deviance_anomalies.csv\")\n"
   ]
  },
  {
   "cell_type": "code",
   "execution_count": 8,
   "id": "3a043d20",
   "metadata": {},
   "outputs": [
    {
     "name": "stdout",
     "output_type": "stream",
     "text": [
      "Labels for Top Anomalous IPs:\n",
      "172.31.69.25: DDoS attacks-LOIC-HTTP\n",
      "13.107.4.50: Benign\n",
      "23.36.32.43: Benign\n",
      "23.15.8.139: Benign\n",
      "23.15.8.129: Benign\n",
      "18.218.55.126: DDoS attacks-LOIC-HTTP\n",
      "18.219.5.43: DDoS attacks-LOIC-HTTP\n",
      "18.218.229.235: DDoS attacks-LOIC-HTTP\n",
      "18.216.24.42: DDoS attacks-LOIC-HTTP\n",
      "18.216.200.189: DDoS attacks-LOIC-HTTP\n",
      "18.219.9.1: DDoS attacks-LOIC-HTTP\n",
      "18.218.11.51: DDoS attacks-LOIC-HTTP\n",
      "23.219.88.11: Benign\n",
      "52.14.136.135: DDoS attacks-LOIC-HTTP\n",
      "18.219.32.43: DDoS attacks-LOIC-HTTP\n",
      "23.219.88.59: Benign\n",
      "172.31.66.63: Benign\n",
      "172.31.66.111: Benign\n",
      "172.31.65.6: Benign\n",
      "172.31.65.100: Benign\n",
      "172.31.64.99: Benign\n",
      "172.31.67.28: Benign\n",
      "172.31.66.42: Benign\n",
      "172.31.64.115: Benign\n",
      "172.31.66.82: Benign\n",
      "172.31.65.25: Benign\n",
      "172.31.64.76: Benign\n",
      "172.31.65.123: Benign\n",
      "172.31.66.15: Benign\n",
      "172.31.65.117: Benign\n"
     ]
    }
   ],
   "source": [
    "# Load the label mapping (if not already loaded)\n",
    "with open(\"label_mapping.pkl\", \"rb\") as f:\n",
    "    label_mapping = pickle.load(f)\n",
    "\n",
    "# Extract labels for the top anomalous nodes\n",
    "top_labels = {ip: label_mapping.get(ip, \"Unknown\") for ip in top_ids}\n",
    "\n",
    "# Print the results\n",
    "print(\"Labels for Top Anomalous IPs:\")\n",
    "for ip, label in top_labels.items():\n",
    "    print(f\"{ip}: {label}\")\n"
   ]
  },
  {
   "cell_type": "code",
   "execution_count": 5,
   "id": "c964ca8c",
   "metadata": {},
   "outputs": [
    {
     "name": "stdout",
     "output_type": "stream",
     "text": [
      "Top Combined Anomalies (Average of All Scores):\n",
      "23.36.32.43        0.458834\n",
      "172.31.69.25       0.434673\n",
      "185.92.73.85       0.424351\n",
      "121.8.141.138      0.335849\n",
      "210.206.216.138    0.335849\n",
      "121.8.141.142      0.335849\n",
      "58.63.230.158      0.335849\n",
      "18.218.55.126      0.334291\n",
      "18.218.229.235     0.332587\n",
      "18.219.5.43        0.332426\n",
      "18.216.200.189     0.329398\n",
      "18.216.24.42       0.329223\n",
      "18.219.9.1         0.328876\n",
      "18.218.11.51       0.328188\n",
      "52.14.136.135      0.326356\n",
      "18.219.32.43       0.319638\n",
      "13.107.4.50        0.317384\n",
      "172.31.66.63       0.304499\n",
      "172.31.66.111      0.278164\n",
      "172.31.65.93       0.277960\n",
      "172.31.66.82       0.266224\n",
      "172.31.68.18       0.262117\n",
      "18.218.115.60      0.257385\n",
      "104.27.169.172     0.254877\n",
      "172.31.67.63       0.253727\n",
      "172.31.65.123      0.252475\n",
      "172.31.64.115      0.251550\n",
      "172.31.65.81       0.248728\n",
      "172.31.65.100      0.248019\n",
      "172.31.67.38       0.246164\n",
      "dtype: float64\n",
      "Labels for Top Combined Anomalous IPs:\n",
      "23.36.32.43: Benign\n",
      "172.31.69.25: DDoS attacks-LOIC-HTTP\n",
      "185.92.73.85: Benign\n",
      "121.8.141.138: Benign\n",
      "210.206.216.138: Benign\n",
      "121.8.141.142: Benign\n",
      "58.63.230.158: Benign\n",
      "18.218.55.126: DDoS attacks-LOIC-HTTP\n",
      "18.218.229.235: DDoS attacks-LOIC-HTTP\n",
      "18.219.5.43: DDoS attacks-LOIC-HTTP\n",
      "18.216.200.189: DDoS attacks-LOIC-HTTP\n",
      "18.216.24.42: DDoS attacks-LOIC-HTTP\n",
      "18.219.9.1: DDoS attacks-LOIC-HTTP\n",
      "18.218.11.51: DDoS attacks-LOIC-HTTP\n",
      "52.14.136.135: DDoS attacks-LOIC-HTTP\n",
      "18.219.32.43: DDoS attacks-LOIC-HTTP\n",
      "13.107.4.50: Benign\n",
      "172.31.66.63: Benign\n",
      "172.31.66.111: Benign\n",
      "172.31.65.93: Benign\n",
      "172.31.66.82: Benign\n",
      "172.31.68.18: Benign\n",
      "18.218.115.60: DDoS attacks-LOIC-HTTP\n",
      "104.27.169.172: Benign\n",
      "172.31.67.63: Benign\n",
      "172.31.65.123: Benign\n",
      "172.31.64.115: Benign\n",
      "172.31.65.81: Benign\n",
      "172.31.65.100: Benign\n",
      "172.31.67.38: Benign\n"
     ]
    }
   ],
   "source": [
    "# Combined score (take the average of all scores) and sort\n",
    "combined_scores = df_scores_scaled.mean(axis=1)\n",
    "sorted_combined_scores = combined_scores.sort_values(ascending=False)\n",
    "top_combined_anomalies = sorted_combined_scores.head(30)\n",
    "print(\"Top Combined Anomalies (Average of All Scores):\")\n",
    "print(top_combined_anomalies)\n",
    "\n",
    "# Label mapping for combined anomalies\n",
    "top_combined_ids = top_combined_anomalies.index.tolist()\n",
    "top_combined_labels = {ip: label_mapping.get(ip, \"Unknown\") for ip in top_combined_ids}\n",
    "print(\"Labels for Top Combined Anomalous IPs:\")\n",
    "for ip, label in top_combined_labels.items():\n",
    "    print(f\"{ip}: {label}\")\n",
    "    "
   ]
  },
  {
   "cell_type": "code",
   "execution_count": null,
   "id": "41652532",
   "metadata": {},
   "outputs": [],
   "source": []
  },
  {
   "cell_type": "markdown",
   "id": "b208f6ff",
   "metadata": {},
   "source": []
  }
 ],
 "metadata": {
  "kernelspec": {
   "display_name": "Python 3",
   "language": "python",
   "name": "python3"
  },
  "language_info": {
   "codemirror_mode": {
    "name": "ipython",
    "version": 3
   },
   "file_extension": ".py",
   "mimetype": "text/x-python",
   "name": "python",
   "nbconvert_exporter": "python",
   "pygments_lexer": "ipython3",
   "version": "3.13.2"
  }
 },
 "nbformat": 4,
 "nbformat_minor": 5
}
